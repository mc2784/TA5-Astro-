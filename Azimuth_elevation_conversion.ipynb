{
 "cells": [
  {
   "cell_type": "code",
   "execution_count": 1,
   "id": "a7b3b5ac",
   "metadata": {},
   "outputs": [],
   "source": [
    "import pandas as pd\n",
    "import numpy as np\n",
    "import datetime as dt\n",
    "import pytz"
   ]
  },
  {
   "cell_type": "code",
   "execution_count": 2,
   "id": "039b525d",
   "metadata": {},
   "outputs": [],
   "source": [
    "# Define the observer's location\n",
    "lat = 51.380001   # bath\n",
    "lon = -2.360000\n",
    "alt = 0          # assume sea level"
   ]
  },
  {
   "cell_type": "code",
   "execution_count": 3,
   "id": "0a9f0682",
   "metadata": {},
   "outputs": [],
   "source": [
    "# Load the data from the CSV file using pandas\n",
    "data = pd.read_csv('landolt_north.csv')"
   ]
  },
  {
   "cell_type": "code",
   "execution_count": 4,
   "id": "a6e271c2",
   "metadata": {},
   "outputs": [],
   "source": [
    "# Define the time for which to calculate the azimuth and elevation\n",
    "now = dt.datetime.now(pytz.utc)   # use UTC time\n",
    "# now = dt.datetime(2023, 3, 9, 18, 0, 0, tzinfo=pytz.utc)  # example future time"
   ]
  },
  {
   "cell_type": "code",
   "execution_count": 5,
   "id": "84a7b34b",
   "metadata": {},
   "outputs": [],
   "source": [
    "# Calculate the Local Sidereal Time (LST)\n",
    "gst = (now.replace(hour=0, minute=0, second=0, microsecond=0, tzinfo=pytz.utc) -\n",
    "       dt.datetime(2000, 1, 1, 12, 0, 0, tzinfo=pytz.utc)).total_seconds() * (360/86400)\n",
    "lst = (gst + lon*15) % 360"
   ]
  },
  {
   "cell_type": "code",
   "execution_count": 6,
   "id": "07e47f5f",
   "metadata": {},
   "outputs": [],
   "source": [
    "# Calculate the Hour Angle (HA) and Altitude (Alt) for each object\n",
    "data['HA'] = np.radians(lst - data['ra'])\n",
    "\n",
    "data['Alt'] = np.arcsin(np.sin(np.radians(lat))*np.sin(np.radians(data['dec'])) +\n",
    "                        np.cos(np.radians(lat))*np.cos(np.radians(data['dec']))*np.cos(data['HA']))\n",
    "\n",
    "data['Az'] = np.degrees(np.arccos((np.sin(np.radians(data['dec'])) -\n",
    "                        np.sin(data['Alt'])*np.sin(np.radians(lat))) /\n",
    "                        (np.cos(data['Alt'])*np.cos(np.radians(lat)))))"
   ]
  },
  {
   "cell_type": "code",
   "execution_count": 7,
   "id": "78ee15b6",
   "metadata": {},
   "outputs": [
    {
     "name": "stdout",
     "output_type": "stream",
     "text": [
      "Index(['oid', 'Identifier', 'ra', 'dec', 'HA', 'Alt', 'Az'], dtype='object')\n"
     ]
    }
   ],
   "source": [
    "print(data.columns)"
   ]
  },
  {
   "cell_type": "code",
   "execution_count": 8,
   "id": "58126345",
   "metadata": {},
   "outputs": [],
   "source": [
    "data['Az'] = np.degrees(np.arccos((np.sin(np.radians(data['dec'])) -\n",
    "                        np.sin(data['Alt'])*np.sin(np.radians(lat))) /\n",
    "                        (np.cos(data['Alt'])*np.cos(np.radians(lat)))))"
   ]
  },
  {
   "cell_type": "code",
   "execution_count": 9,
   "id": "fa8844f4",
   "metadata": {},
   "outputs": [],
   "source": [
    "# Adjust the Azimuth for objects east of South (Az > 180)\n",
    "data.loc[data['HA'] > 0, 'Az'] = 360 - data['Az']"
   ]
  },
  {
   "cell_type": "code",
   "execution_count": 10,
   "id": "9f149582",
   "metadata": {},
   "outputs": [],
   "source": [
    "# Convert Altitude to Elevation\n",
    "data['El'] = 90 - np.degrees(data['Alt'])"
   ]
  },
  {
   "cell_type": "code",
   "execution_count": 11,
   "id": "7ca77ee5",
   "metadata": {},
   "outputs": [],
   "source": [
    "# Add the new columns with appropriate column titles\n",
    "data.rename(columns={'RA': 'Right Ascension', 'Dec': 'Declination', 'Az': 'Azimuth', 'El': 'Elevation'}, inplace=True)"
   ]
  },
  {
   "cell_type": "code",
   "execution_count": 12,
   "id": "38a39deb",
   "metadata": {},
   "outputs": [],
   "source": [
    "# Save the results to a new CSV file\n",
    "data.to_csv('results.csv', index=False)"
   ]
  }
 ],
 "metadata": {
  "kernelspec": {
   "display_name": "Python 3",
   "language": "python",
   "name": "python3"
  },
  "language_info": {
   "codemirror_mode": {
    "name": "ipython",
    "version": 3
   },
   "file_extension": ".py",
   "mimetype": "text/x-python",
   "name": "python",
   "nbconvert_exporter": "python",
   "pygments_lexer": "ipython3",
   "version": "3.8.8"
  }
 },
 "nbformat": 4,
 "nbformat_minor": 5
}
